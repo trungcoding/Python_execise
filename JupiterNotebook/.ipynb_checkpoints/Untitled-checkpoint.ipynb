{
 "cells": [
  {
   "cell_type": "code",
   "execution_count": 45,
   "id": "a478ac99-b75b-4a81-b675-c5e28a4afa6f",
   "metadata": {},
   "outputs": [],
   "source": [
    "import requests\n",
    "import datetime as dt"
   ]
  },
  {
   "cell_type": "code",
   "execution_count": 54,
   "id": "1096b414-980d-453e-895e-fd2590c4baed",
   "metadata": {},
   "outputs": [],
   "source": [
    "base_url = \"https://api.openweathermap.org/data/2.5/weather?q=\"\n",
    "api_key = \"06c921750b9a82d8f5d1294e1586276f\"\n",
    "city = \"Hanoi\""
   ]
  },
  {
   "cell_type": "code",
   "execution_count": 55,
   "id": "87fa9194-1a34-428d-b786-8dc82125a747",
   "metadata": {},
   "outputs": [],
   "source": [
    "url = base_url + city + \"&appid=\" + api_key"
   ]
  },
  {
   "cell_type": "code",
   "execution_count": 56,
   "id": "8f6b5202-6e61-45d8-b308-1e0da2b92be6",
   "metadata": {},
   "outputs": [
    {
     "name": "stdout",
     "output_type": "stream",
     "text": [
      "{'coord': {'lon': 105.8412, 'lat': 21.0245}, 'weather': [{'id': 804, 'main': 'Clouds', 'description': 'overcast clouds', 'icon': '04n'}], 'base': 'stations', 'main': {'temp': 304.15, 'feels_like': 311.05, 'temp_min': 304.15, 'temp_max': 304.15, 'pressure': 1007, 'humidity': 71, 'sea_level': 1007, 'grnd_level': 1005}, 'visibility': 10000, 'wind': {'speed': 4.66, 'deg': 132, 'gust': 8.66}, 'clouds': {'all': 90}, 'dt': 1696593771, 'sys': {'type': 1, 'id': 9308, 'country': 'VN', 'sunrise': 1696546128, 'sunset': 1696588853}, 'timezone': 25200, 'id': 1581130, 'name': 'Hanoi', 'cod': 200}\n"
     ]
    }
   ],
   "source": [
    "response = requests.get(url).json()\n",
    "print(response)"
   ]
  },
  {
   "cell_type": "code",
   "execution_count": 57,
   "id": "7d5f2b35",
   "metadata": {},
   "outputs": [],
   "source": [
    "def kelvin_to_celsius_fahrenheit(kelvin):\n",
    "    clesius = kelvin - 273.15\n",
    "    fahrenheit = clesius * (9/5) + 32\n",
    "    return clesius, fahrenheit"
   ]
  },
  {
   "cell_type": "code",
   "execution_count": 58,
   "id": "239d2906-0e60-4b6d-ad4a-193a98478359",
   "metadata": {},
   "outputs": [],
   "source": [
    "temp_kelvin = response['main']['temp']\n",
    "temp_celsius, temp_fahrenheit = kelvin_to_celsius_fahrenheit(temp_kelvin)\n",
    "feels_like_kelvin = response['main']['feels_like']\n",
    "feels_like_celsius, feels_like_fahrenheit = kelvin_to_celsius_fahrenheit(feels_like_kelvin)\n",
    "humidity = response['main']['humidity']\n",
    "wind_speed = response['wind']['speed']\n",
    "description = response['weather'][0]['description']\n",
    "sunrise_time = dt.datetime.utcfromtimestamp(response['sys']['sunrise'] + response['timezone'])\n",
    "sunset_time = dt.datetime.utcfromtimestamp(response['sys']['sunset'] + response['timezone'])\n"
   ]
  },
  {
   "cell_type": "code",
   "execution_count": 59,
   "id": "446168a8",
   "metadata": {},
   "outputs": [
    {
     "name": "stdout",
     "output_type": "stream",
     "text": [
      "Temperature in Hanoi:31.00°C or 87.80°F\n",
      "Temperature in Hanoi feels like: 37.90°C  or 100.22°F\n",
      "Humidity in Hanoi: 71%\n",
      "Wind speed in Hanoi: 4.66m/s\n",
      "General weather in Hanoi: overcast clouds\n",
      "Sunrise in Hanoi at 2023-10-06 05:48:48 local time\n",
      "Sunset in Hanoi at 2023-10-06 17:40:53 local time\n"
     ]
    }
   ],
   "source": [
    "print(f\"Temperature in {city}:{temp_celsius:.2f}°C or {temp_fahrenheit:.2f}°F\")\n",
    "print(f\"Temperature in {city} feels like: {feels_like_celsius:.2f}°C  or {feels_like_fahrenheit:.2f}°F\")\n",
    "print(f\"Humidity in {city}: {humidity}%\")\n",
    "print(f\"Wind speed in {city}: {wind_speed}m/s\")\n",
    "print(f\"General weather in {city}: {description}\")\n",
    "print(f\"Sunrise in {city} at {sunrise_time} local time\")\n",
    "print(f\"Sunset in {city} at {sunset_time} local time\")\n"
   ]
  }
 ],
 "metadata": {
  "kernelspec": {
   "display_name": "Python 3 (ipykernel)",
   "language": "python",
   "name": "python3"
  },
  "language_info": {
   "codemirror_mode": {
    "name": "ipython",
    "version": 3
   },
   "file_extension": ".py",
   "mimetype": "text/x-python",
   "name": "python",
   "nbconvert_exporter": "python",
   "pygments_lexer": "ipython3",
   "version": "3.11.4"
  }
 },
 "nbformat": 4,
 "nbformat_minor": 5
}
